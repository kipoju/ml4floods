{
 "cells": [
  {
   "cell_type": "markdown",
   "id": "hollow-logistics",
   "metadata": {},
   "source": [
    "# PEP 557 dataclasses\n",
    "A module available in Python 3.7+\n",
    "\n",
    "This notebook is a set of notes with respect to Python classes created using the @dataclass decorator."
   ]
  },
  {
   "cell_type": "code",
   "execution_count": 11,
   "id": "industrial-lafayette",
   "metadata": {},
   "outputs": [
    {
     "ename": "TypeError",
     "evalue": "field() got an unexpected keyword argument 'datetime'",
     "output_type": "error",
     "traceback": [
      "\u001b[0;31m-----------------------------------------------\u001b[0m",
      "\u001b[0;31mTypeError\u001b[0m     Traceback (most recent call last)",
      "\u001b[0;32m<ipython-input-11-fbbb84d64cbf>\u001b[0m in \u001b[0;36m<module>\u001b[0;34m\u001b[0m\n\u001b[1;32m      5\u001b[0m \u001b[0;34m\u001b[0m\u001b[0m\n\u001b[1;32m      6\u001b[0m \u001b[0;34m@\u001b[0m\u001b[0mdataclass\u001b[0m\u001b[0;34m\u001b[0m\u001b[0;34m\u001b[0m\u001b[0m\n\u001b[0;32m----> 7\u001b[0;31m \u001b[0;32mclass\u001b[0m \u001b[0mSentinel2Tif\u001b[0m\u001b[0;34m:\u001b[0m\u001b[0;34m\u001b[0m\u001b[0;34m\u001b[0m\u001b[0m\n\u001b[0m\u001b[1;32m      8\u001b[0m     \u001b[0mcloudy_pixel_percentage\u001b[0m\u001b[0;34m:\u001b[0m \u001b[0mfloat\u001b[0m \u001b[0;34m=\u001b[0m \u001b[0mfield\u001b[0m\u001b[0;34m(\u001b[0m\u001b[0;34m)\u001b[0m\u001b[0;34m\u001b[0m\u001b[0;34m\u001b[0m\u001b[0m\n\u001b[1;32m      9\u001b[0m     \u001b[0mproduct_id\u001b[0m\u001b[0;34m:\u001b[0m \u001b[0mstr\u001b[0m \u001b[0;34m=\u001b[0m \u001b[0mfield\u001b[0m\u001b[0;34m(\u001b[0m\u001b[0;34m)\u001b[0m\u001b[0;34m\u001b[0m\u001b[0;34m\u001b[0m\u001b[0m\n",
      "\u001b[0;32m<ipython-input-11-fbbb84d64cbf>\u001b[0m in \u001b[0;36mSentinel2Tif\u001b[0;34m()\u001b[0m\n\u001b[1;32m     13\u001b[0m     \u001b[0mnum_bands\u001b[0m\u001b[0;34m:\u001b[0m \u001b[0mint\u001b[0m \u001b[0;34m=\u001b[0m \u001b[0mfield\u001b[0m\u001b[0;34m(\u001b[0m\u001b[0;34m)\u001b[0m\u001b[0;34m\u001b[0m\u001b[0;34m\u001b[0m\u001b[0m\n\u001b[1;32m     14\u001b[0m     \u001b[0mviewed_by\u001b[0m\u001b[0;34m:\u001b[0m \u001b[0mlist\u001b[0m \u001b[0;34m=\u001b[0m \u001b[0mfield\u001b[0m\u001b[0;34m(\u001b[0m\u001b[0mdefault_factory\u001b[0m \u001b[0;34m=\u001b[0m \u001b[0mlist\u001b[0m\u001b[0;34m,\u001b[0m \u001b[0mcompare\u001b[0m \u001b[0;34m=\u001b[0m \u001b[0;32mFalse\u001b[0m\u001b[0;34m,\u001b[0m \u001b[0mrepr\u001b[0m \u001b[0;34m=\u001b[0m \u001b[0;32mFalse\u001b[0m\u001b[0;34m)\u001b[0m\u001b[0;34m\u001b[0m\u001b[0;34m\u001b[0m\u001b[0m\n\u001b[0;32m---> 15\u001b[0;31m     \u001b[0mload_date\u001b[0m\u001b[0;34m:\u001b[0m \u001b[0mdatetime\u001b[0m \u001b[0;34m=\u001b[0m \u001b[0mfield\u001b[0m\u001b[0;34m(\u001b[0m\u001b[0mdatetime\u001b[0m \u001b[0;34m=\u001b[0m \u001b[0mdatetime\u001b[0m\u001b[0;34m.\u001b[0m\u001b[0mnow\u001b[0m\u001b[0;34m(\u001b[0m\u001b[0;34m)\u001b[0m\u001b[0;34m)\u001b[0m\u001b[0;34m\u001b[0m\u001b[0;34m\u001b[0m\u001b[0m\n\u001b[0m\u001b[1;32m     16\u001b[0m     \u001b[0msource_system\u001b[0m\u001b[0;34m:\u001b[0m \u001b[0mstr\u001b[0m \u001b[0;34m=\u001b[0m \u001b[0mfield\u001b[0m\u001b[0;34m(\u001b[0m\u001b[0mdefault\u001b[0m \u001b[0;34m=\u001b[0m \u001b[0;34m\"Not Specified\"\u001b[0m\u001b[0;34m)\u001b[0m\u001b[0;34m\u001b[0m\u001b[0;34m\u001b[0m\u001b[0m\n\u001b[1;32m     17\u001b[0m \u001b[0;34m\u001b[0m\u001b[0m\n",
      "\u001b[0;31mTypeError\u001b[0m: field() got an unexpected keyword argument 'datetime'"
     ]
    }
   ],
   "source": [
    "from dataclasses import dataclass, field\n",
    "from datetime import datetime\n",
    "from typing import List\n",
    "\n",
    "\n",
    "@dataclass\n",
    "class Sentinel2Tif:\n",
    "    cloudy_pixel_percentage: float = field()\n",
    "    product_id: str = field()\n",
    "    spacecraft_name: str = field()\n",
    "    system_time_start: int = field()\n",
    "    geometry_coords: List[float]\n",
    "    num_bands: int = field()\n",
    "    viewed_by: list = field(default_factory = list, compare = False, repr = False)\n",
    "    load_date: datetime = field(datetime = datetime.now())\n",
    "    source_system: str = field(default = \"Not Specified\")\n",
    "    \n",
    "    def access(self, viewed_by):\n",
    "        self.viewed_by.append((viewer_id, datetime.now()))\n",
    "        "
   ]
  },
  {
   "cell_type": "markdown",
   "id": "computational-tolerance",
   "metadata": {},
   "source": [
    "The dataclass may have member functions but in this particular case the dataclass is being used similar to a struct in C program, where the object represents a data object that stores information particular to a file image."
   ]
  },
  {
   "cell_type": "code",
   "execution_count": 4,
   "id": "everyday-airplane",
   "metadata": {},
   "outputs": [],
   "source": [
    "from pprint import pprint"
   ]
  },
  {
   "cell_type": "code",
   "execution_count": 12,
   "id": "constant-voice",
   "metadata": {},
   "outputs": [
    {
     "ename": "NameError",
     "evalue": "name 'Sentinel2Tif' is not defined",
     "output_type": "error",
     "traceback": [
      "\u001b[0;31m-----------------------------------------------\u001b[0m",
      "\u001b[0;31mNameError\u001b[0m     Traceback (most recent call last)",
      "\u001b[0;32m<ipython-input-12-ad9728fde1b0>\u001b[0m in \u001b[0;36m<module>\u001b[0;34m\u001b[0m\n\u001b[0;32m----> 1\u001b[0;31m sen2_choc00 = Sentinel2Tif(cloudy_pixel_percentage=0.0,\n\u001b[0m\u001b[1;32m      2\u001b[0m                    \u001b[0mproduct_id\u001b[0m \u001b[0;34m=\u001b[0m \u001b[0;34m\"S2A_MSIL1C_20160111T162642_N0201_R040_T16REU_20160111T162638\"\u001b[0m\u001b[0;34m,\u001b[0m\u001b[0;34m\u001b[0m\u001b[0;34m\u001b[0m\u001b[0m\n\u001b[1;32m      3\u001b[0m                    \u001b[0mspacecraft_name\u001b[0m \u001b[0;34m=\u001b[0m \u001b[0;34m\"Sentinel-2A\"\u001b[0m\u001b[0;34m,\u001b[0m\u001b[0;34m\u001b[0m\u001b[0;34m\u001b[0m\u001b[0m\n\u001b[1;32m      4\u001b[0m                    \u001b[0msystem_time_start\u001b[0m \u001b[0;34m=\u001b[0m \u001b[0;36m1452530233424\u001b[0m\u001b[0;34m,\u001b[0m\u001b[0;34m\u001b[0m\u001b[0;34m\u001b[0m\u001b[0m\n\u001b[1;32m      5\u001b[0m                    \u001b[0mgeometry_coords\u001b[0m \u001b[0;34m=\u001b[0m \u001b[0;34m[\u001b[0m\u001b[0;34m[\u001b[0m\u001b[0;34m-\u001b[0m\u001b[0;36m87.00031574759625\u001b[0m\u001b[0;34m,\u001b[0m\u001b[0;36m31.635558341413464\u001b[0m\u001b[0;34m]\u001b[0m\u001b[0;34m,\u001b[0m\u001b[0;34m[\u001b[0m\u001b[0;34m-\u001b[0m\u001b[0;36m87.00031658718908\u001b[0m\u001b[0;34m,\u001b[0m\u001b[0;36m31.6355471434182\u001b[0m\u001b[0;34m]\u001b[0m\u001b[0;34m,\u001b[0m\u001b[0;34m[\u001b[0m\u001b[0;34m-\u001b[0m\u001b[0;36m87.00031330514426\u001b[0m\u001b[0;34m,\u001b[0m\u001b[0;36m30.64499911590397\u001b[0m\u001b[0;34m]\u001b[0m\u001b[0;34m,\u001b[0m\u001b[0;34m[\u001b[0m\u001b[0;34m-\u001b[0m\u001b[0;36m87.00027079119467\u001b[0m\u001b[0;34m,\u001b[0m\u001b[0;36m30.644957629295877\u001b[0m\u001b[0;34m]\u001b[0m\u001b[0;34m,\u001b[0m\u001b[0;34m[\u001b[0m\u001b[0;34m-\u001b[0m\u001b[0;36m87.00023468865491\u001b[0m\u001b[0;34m,\u001b[0m\u001b[0;36m30.644911905839567\u001b[0m\u001b[0;34m]\u001b[0m\u001b[0;34m,\u001b[0m\u001b[0;34m[\u001b[0m\u001b[0;34m-\u001b[0m\u001b[0;36m87.00021751513279\u001b[0m\u001b[0;34m,\u001b[0m\u001b[0;36m30.644909143733468\u001b[0m\u001b[0;34m]\u001b[0m\u001b[0;34m,\u001b[0m\u001b[0;34m[\u001b[0m\u001b[0;34m-\u001b[0m\u001b[0;36m85.85459105195203\u001b[0m\u001b[0;34m,\u001b[0m\u001b[0;36m30.63986320451879\u001b[0m\u001b[0;34m]\u001b[0m\u001b[0;34m,\u001b[0m\u001b[0;34m[\u001b[0m\u001b[0;34m-\u001b[0m\u001b[0;36m85.85454247847652\u001b[0m\u001b[0;34m,\u001b[0m\u001b[0;36m30.63989933412147\u001b[0m\u001b[0;34m]\u001b[0m\u001b[0;34m,\u001b[0m\u001b[0;34m[\u001b[0m\u001b[0;34m-\u001b[0m\u001b[0;36m85.85448898512742\u001b[0m\u001b[0;34m,\u001b[0m\u001b[0;36m30.639929962982517\u001b[0m\u001b[0;34m]\u001b[0m\u001b[0;34m,\u001b[0m\u001b[0;34m[\u001b[0m\u001b[0;34m-\u001b[0m\u001b[0;36m85.85448547096388\u001b[0m\u001b[0;34m,\u001b[0m\u001b[0;36m30.639944745386664\u001b[0m\u001b[0;34m]\u001b[0m\u001b[0;34m,\u001b[0m\u001b[0;34m[\u001b[0m\u001b[0;34m-\u001b[0m\u001b[0;36m85.84857626683437\u001b[0m\u001b[0;34m,\u001b[0m\u001b[0;36m31.13514587902931\u001b[0m\u001b[0;34m]\u001b[0m\u001b[0;34m,\u001b[0m\u001b[0;34m[\u001b[0m\u001b[0;34m-\u001b[0m\u001b[0;36m85.84251939295898\u001b[0m\u001b[0;34m,\u001b[0m\u001b[0;36m31.630300353048582\u001b[0m\u001b[0;34m]\u001b[0m\u001b[0;34m,\u001b[0m\u001b[0;34m[\u001b[0m\u001b[0;34m-\u001b[0m\u001b[0;36m85.84256180686478\u001b[0m\u001b[0;34m,\u001b[0m\u001b[0;36m31.63034221965953\u001b[0m\u001b[0;34m]\u001b[0m\u001b[0;34m,\u001b[0m\u001b[0;34m[\u001b[0m\u001b[0;34m-\u001b[0m\u001b[0;36m85.84259773758689\u001b[0m\u001b[0;34m,\u001b[0m\u001b[0;36m31.630388220228642\u001b[0m\u001b[0;34m]\u001b[0m\u001b[0;34m,\u001b[0m\u001b[0;34m[\u001b[0m\u001b[0;34m-\u001b[0m\u001b[0;36m85.84261507805701\u001b[0m\u001b[0;34m,\u001b[0m\u001b[0;36m31.630391215926494\u001b[0m\u001b[0;34m]\u001b[0m\u001b[0;34m,\u001b[0m\u001b[0;34m[\u001b[0m\u001b[0;34m-\u001b[0m\u001b[0;36m87.0002108747026\u001b[0m\u001b[0;34m,\u001b[0m\u001b[0;36m31.635637106374443\u001b[0m\u001b[0;34m]\u001b[0m\u001b[0;34m,\u001b[0m\u001b[0;34m[\u001b[0m\u001b[0;34m-\u001b[0m\u001b[0;36m87.00025964749608\u001b[0m\u001b[0;34m,\u001b[0m\u001b[0;36m31.63560050780491\u001b[0m\u001b[0;34m]\u001b[0m\u001b[0;34m,\u001b[0m\u001b[0;34m[\u001b[0m\u001b[0;34m-\u001b[0m\u001b[0;36m87.00031330514426\u001b[0m\u001b[0;34m,\u001b[0m\u001b[0;36m31.63556941493997\u001b[0m\u001b[0;34m]\u001b[0m\u001b[0;34m,\u001b[0m\u001b[0;34m[\u001b[0m\u001b[0;34m-\u001b[0m\u001b[0;36m87.00031574759625\u001b[0m\u001b[0;34m,\u001b[0m\u001b[0;36m31.635558341413464\u001b[0m\u001b[0;34m]\u001b[0m\u001b[0;34m]\u001b[0m\u001b[0;34m,\u001b[0m\u001b[0;34m\u001b[0m\u001b[0;34m\u001b[0m\u001b[0m\n",
      "\u001b[0;31mNameError\u001b[0m: name 'Sentinel2Tif' is not defined"
     ]
    }
   ],
   "source": [
    "sen2_choc00 = Sentinel2Tif(cloudy_pixel_percentage=0.0,\n",
    "                   product_id = \"S2A_MSIL1C_20160111T162642_N0201_R040_T16REU_20160111T162638\",\n",
    "                   spacecraft_name = \"Sentinel-2A\",\n",
    "                   system_time_start = 1452530233424,\n",
    "                   geometry_coords = [[-87.00031574759625,31.635558341413464],[-87.00031658718908,31.6355471434182],[-87.00031330514426,30.64499911590397],[-87.00027079119467,30.644957629295877],[-87.00023468865491,30.644911905839567],[-87.00021751513279,30.644909143733468],[-85.85459105195203,30.63986320451879],[-85.85454247847652,30.63989933412147],[-85.85448898512742,30.639929962982517],[-85.85448547096388,30.639944745386664],[-85.84857626683437,31.13514587902931],[-85.84251939295898,31.630300353048582],[-85.84256180686478,31.63034221965953],[-85.84259773758689,31.630388220228642],[-85.84261507805701,31.630391215926494],[-87.0002108747026,31.635637106374443],[-87.00025964749608,31.63560050780491],[-87.00031330514426,31.63556941493997],[-87.00031574759625,31.635558341413464]],\n",
    "                   num_bands=1)\n",
    "\n",
    "sen2_choc01 = Sentinel2Tif(cloudly_pizel_percentage=1.0,\n",
    "                          product_id= \"S2A_MSIL1C_20160111T162642_N0201_R040_T16REV_20160111T162638\",\n",
    "                          spacecraft_name= \"Sentinel-2A\",\n",
    "                          system_time_start = 1452530233424, \n",
    "                          geometry_coords = \"[[-85.95558263722795,30.72887899076221],[-85.95558357252455,30.728867724861555],[-85.96085798794942,30.23362543698345],[-85.966002978969,29.738344902178163],[-85.96596128867371,29.73830305571698],[-85.9659259103408,29.738257078297487],[-85.96590892249837,29.738254180403146],[-84.83116595036027,29.724521697835144],[-84.8311174115342,29.72455752692098],[-84.83106409834956,29.72458770594122],[-84.83106051761149,29.724602460455916],[-84.82027622068053,30.219614978361147],[-84.80922074241951,30.714578986956983],[-84.80926229492455,30.714621143906253],[-84.80929747920587,30.714667420380025],[-84.80931459372398,30.714670552293477],[-85.95547788390222,30.728956903450282],[-85.95552651940113,30.728920676561334],[-85.95558006516221,30.72889003071432],[-85.95558263722795,30.72887899076221]]\", \n",
    "                          num_bands=1)"
   ]
  },
  {
   "cell_type": "code",
   "execution_count": null,
   "id": "integrated-hollywood",
   "metadata": {},
   "outputs": [],
   "source": [
    "sen2_choc00.access('Jon Doe')\n",
    "sen2_choc00.access('John Doe')\n",
    "pprint(sen2_choc.viewed_by)"
   ]
  },
  {
   "cell_type": "code",
   "execution_count": 13,
   "id": "metallic-missouri",
   "metadata": {},
   "outputs": [
    {
     "ename": "NameError",
     "evalue": "name 'sen2_choc00' is not defined",
     "output_type": "error",
     "traceback": [
      "\u001b[0;31m-----------------------------------------------\u001b[0m",
      "\u001b[0;31mNameError\u001b[0m     Traceback (most recent call last)",
      "\u001b[0;32m<ipython-input-13-1e8a27ee41ae>\u001b[0m in \u001b[0;36m<module>\u001b[0;34m\u001b[0m\n\u001b[0;32m----> 1\u001b[0;31m \u001b[0massignments\u001b[0m \u001b[0;34m=\u001b[0m \u001b[0;34m{\u001b[0m\u001b[0msen2_choc00\u001b[0m\u001b[0;34m:\u001b[0m \u001b[0;34m'incomplete image'\u001b[0m\u001b[0;34m,\u001b[0m \u001b[0msen2_choc01\u001b[0m\u001b[0;34m:\u001b[0m \u001b[0;34m'complete image'\u001b[0m\u001b[0;34m}\u001b[0m\u001b[0;34m\u001b[0m\u001b[0;34m\u001b[0m\u001b[0m\n\u001b[0m\u001b[1;32m      2\u001b[0m \u001b[0mpprint\u001b[0m\u001b[0;34m(\u001b[0m\u001b[0massignments\u001b[0m\u001b[0;34m)\u001b[0m\u001b[0;34m\u001b[0m\u001b[0;34m\u001b[0m\u001b[0m\n",
      "\u001b[0;31mNameError\u001b[0m: name 'sen2_choc00' is not defined"
     ]
    }
   ],
   "source": [
    "assignments = {sen2_choc00: 'incomplete image', sen2_choc01: 'complete image'}\n",
    "pprint(assignments)"
   ]
  },
  {
   "cell_type": "code",
   "execution_count": null,
   "id": "extensive-indianapolis",
   "metadata": {},
   "outputs": [],
   "source": [
    "fields(sen2_choc00)[3]\n",
    "Field(name)"
   ]
  }
 ],
 "metadata": {
  "kernelspec": {
   "display_name": "Python 3",
   "language": "python",
   "name": "python3"
  },
  "language_info": {
   "codemirror_mode": {
    "name": "ipython",
    "version": 3
   },
   "file_extension": ".py",
   "mimetype": "text/x-python",
   "name": "python",
   "nbconvert_exporter": "python",
   "pygments_lexer": "ipython3",
   "version": "3.8.5"
  }
 },
 "nbformat": 4,
 "nbformat_minor": 5
}
